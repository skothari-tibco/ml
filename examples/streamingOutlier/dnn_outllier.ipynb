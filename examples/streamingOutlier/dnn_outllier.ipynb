{
 "cells": [
  {
   "cell_type": "code",
   "execution_count": 1,
   "metadata": {},
   "outputs": [],
   "source": [
    "import tensorflow as tf\n",
    "import sklearn\n",
    "from sklearn.model_selection import train_test_split\n",
    "import numpy as np\n",
    "import pandas as pd\n",
    "%matplotlib inline\n",
    "import matplotlib.pyplot as plt\n"
   ]
  },
  {
   "cell_type": "markdown",
   "metadata": {},
   "source": [
    "<p>Building a recall/precision function.</p>"
   ]
  },
  {
   "cell_type": "code",
   "execution_count": 2,
   "metadata": {},
   "outputs": [],
   "source": [
    "def prec_recall(df):\n",
    "    '''Assumes columns of pred and label'''\n",
    "    tp=df[(df['label']==1)&(df['pred']==1)].shape[0]#number of true positives\n",
    "    recall = tp/df['label'].sum()                   #recall\n",
    "    prec =   tp/df['pred'].sum()                    #precision\n",
    "    fp=df[(df['label']!=1)&(df['pred']==1)].shape[0]#number of false positives\n",
    "    fpr=fp/df['pred'].sum()                         #False positive rate\n",
    "    return prec,recall,fpr"
   ]
  },
  {
   "cell_type": "markdown",
   "metadata": {},
   "source": [
    "<p>Opening normalized credit card data.</p>"
   ]
  },
  {
   "cell_type": "code",
   "execution_count": 3,
   "metadata": {},
   "outputs": [],
   "source": [
    "fn=\"creditcard_cleaned.csv\"\n",
    "df=pd.read_csv(fn)"
   ]
  },
  {
   "cell_type": "code",
   "execution_count": 4,
   "metadata": {},
   "outputs": [],
   "source": [
    "cols=[col for col in df.columns if col not in [\"Class\"]]"
   ]
  },
  {
   "cell_type": "markdown",
   "metadata": {},
   "source": [
    "<p>Removing a test set.</p>"
   ]
  },
  {
   "cell_type": "code",
   "execution_count": 5,
   "metadata": {},
   "outputs": [],
   "source": [
    "dftrain,dftest=train_test_split(df,test_size=0.15)"
   ]
  },
  {
   "cell_type": "code",
   "execution_count": 6,
   "metadata": {},
   "outputs": [
    {
     "data": {
      "text/plain": [
       "30"
      ]
     },
     "execution_count": 6,
     "metadata": {},
     "output_type": "execute_result"
    }
   ],
   "source": [
    "numinps= len(cols)\n",
    "numinps"
   ]
  },
  {
   "cell_type": "markdown",
   "metadata": {},
   "source": [
    "<p>Test/Train split for train and eval data.</p>"
   ]
  },
  {
   "cell_type": "code",
   "execution_count": 7,
   "metadata": {},
   "outputs": [],
   "source": [
    "dftrain2,dfeval=train_test_split(dftrain,test_size=0.15)"
   ]
  },
  {
   "cell_type": "markdown",
   "metadata": {},
   "source": [
    "<p>Building a 5 layer DNN starting at 8*number of inputs and ending with number of inputs.</p>"
   ]
  },
  {
   "cell_type": "code",
   "execution_count": 8,
   "metadata": {},
   "outputs": [],
   "source": [
    "encodedim=28\n",
    "numclasses=2\n",
    "hiddim=encodedim//2\n",
    "lr=0.001 #learnrate=tf.placeholder(tf.float32, name='learningrate')\n",
    "droprate=0.2 #tf.placeholder(tf.float32, name='droprate')\n",
    "inputs=tf.placeholder(tf.float64, shape=(None,numinps),name=\"inputs\")\n",
    "mode=tf.placeholder(tf.string, name=\"mode\")\n",
    "labels=tf.placeholder(tf.int32,shape=(None),name='labels')\n",
    "\n",
    "dense0 = tf.layers.dense(inputs=inputs, units=numinps*8, activation=tf.nn.relu)\n",
    "dropout0 = tf.layers.dropout(inputs=dense0, rate=droprate, training=mode == tf.estimator.ModeKeys.TRAIN)\n",
    "\n",
    "dense1 = tf.layers.dense(inputs=dropout0, units=numinps*4, activation=tf.nn.relu)\n",
    "dropout1 = tf.layers.dropout(inputs=dense1, rate=droprate, training=mode == tf.estimator.ModeKeys.TRAIN)\n",
    "\n",
    "dense1a = tf.layers.dense(inputs=dropout1, units=numinps*3, activation=tf.nn.relu)\n",
    "dropout1a = tf.layers.dropout(inputs=dense1a, rate=droprate, training=mode == tf.estimator.ModeKeys.TRAIN)\n",
    "\n",
    "dense2 = tf.layers.dense(inputs=dropout1a, units=numinps*2, activation=tf.nn.relu)\n",
    "dropout2 = tf.layers.dropout(inputs=dense2, rate=droprate, training=mode == tf.estimator.ModeKeys.TRAIN)\n",
    "\n",
    "dense3 = tf.layers.dense(inputs=dropout2, units=numinps*1, activation=tf.nn.relu)\n",
    "dropout3 = tf.layers.dropout(inputs=dense3, rate=droprate, training=mode == tf.estimator.ModeKeys.TRAIN)\n",
    "\n",
    "dense4 = tf.layers.dense(inputs=dropout3, units=numclasses)#, activation=tf.nn.relu)\n",
    "logits = tf.layers.dropout(inputs=dense4, rate=droprate, training=mode == tf.estimator.ModeKeys.TRAIN)\n",
    "Yprobab=tf.nn.softmax(logits,name='Yprobab')\n",
    "Yout = tf.argmax(Yprobab,1)\n",
    "\n",
    "#loss=tf.losses.mean_squared_error(labels=inputs,predictions=dropout4)\n",
    "#loss = tf.nn.softmax_cross_entropy_with_logits_v2(logits=logits,labels=labels)\n",
    "loss = tf.nn.sparse_softmax_cross_entropy_with_logits(logits=logits,labels=labels)\n",
    "batchloss=tf.reduce_mean(loss)\n",
    "trainstep=tf.train.AdamOptimizer(learning_rate=lr).minimize(loss)\n"
   ]
  },
  {
   "cell_type": "markdown",
   "metadata": {},
   "source": [
    "<p>Training model with training data and evaluating on evaluation set every 5 steps or so.  Then at the end, I make predictions using my test set.  Result processed into precision and recell below.</p>"
   ]
  },
  {
   "cell_type": "code",
   "execution_count": 9,
   "metadata": {
    "scrolled": true
   },
   "outputs": [
    {
     "name": "stdout",
     "output_type": "stream",
     "text": [
      "train:  0 50 0.0033996984188137537\n",
      "train:  0 100 0.0002813698318440727\n",
      "train:  0 150 0.0002596509907660079\n",
      "train:  0 200 0.0004213052011649633\n",
      "train:  0 250 6.962394241946464e-05\n",
      "evalu:  0 250 0.005073468889649064\n",
      "train:  0 300 0.00017317563179673377\n",
      "train:  0 350 0.001975134493505602\n",
      "train:  0 400 0.04091897730344543\n",
      "train:  0 450 0.019070305691122044\n",
      "train:  0 500 0.00020965429133818926\n",
      "evalu:  0 500 0.004479661125457458\n",
      "train:  0 550 0.00032611751199973846\n",
      "train:  0 600 5.933355718023318e-05\n",
      "train:  0 650 8.34177582832727e-06\n",
      "train:  0 700 0.0001362326834440386\n",
      "train:  0 750 3.7309916853337214e-06\n",
      "evalu:  0 750 0.005743423005699536\n",
      "train:  0 800 0.0003055430300264936\n",
      "train:  0 850 0.07900509715420202\n",
      "train:  0 900 0.0010354886650109233\n",
      "train:  0 950 0.0003834109782858326\n",
      "train:  0 1000 0.010997815097533366\n",
      "evalu:  0 1000 0.0037571358364429067\n",
      "train:  0 1050 0.002616750550508773\n",
      "train:  0 1100 0.00013611527554172482\n",
      "train:  0 1150 0.00013935172630046995\n",
      "train:  0 1200 0.08054930853993168\n",
      "train:  0 1250 0.0009038324492415425\n",
      "evalu:  0 1250 0.004330510585750277\n",
      "train:  0 1300 0.00025440541525576237\n",
      "train:  0 1350 0.000551587164578608\n",
      "train:  0 1400 2.0059905865255192e-05\n",
      "train:  0 1450 0.0001529924021988186\n",
      "train:  0 1500 0.0025789698871670386\n",
      "evalu:  0 1500 0.0038887246770905647\n",
      "train:  0 1550 0.0008789663182609657\n",
      "train:  0 1600 5.321753809003227e-06\n",
      "train:  0 1650 0.00045729255523635774\n",
      "train:  0 1700 0.024393865163303406\n",
      "train:  0 1750 0.0003868924067674472\n",
      "evalu:  0 1750 0.004345945215329017\n",
      "train:  0 1800 0.0005577088061532235\n",
      "train:  0 1850 0.10310992902214416\n",
      "evalu:  0 1850 0.003998783216086423\n",
      "Running Test data...\n",
      "WARNING:tensorflow:From /anaconda3/lib/python3.6/site-packages/tensorflow/python/saved_model/simple_save.py:85: calling SavedModelBuilder.add_meta_graph_and_variables (from tensorflow.python.saved_model.builder_impl) with legacy_init_op is deprecated and will be removed in a future version.\n",
      "Instructions for updating:\n",
      "Pass your op to the equivalent parameter main_op instead.\n",
      "INFO:tensorflow:Assets added to graph.\n",
      "INFO:tensorflow:No assets to write.\n",
      "INFO:tensorflow:SavedModel written to: ./m/saved_model.pb\n"
     ]
    }
   ],
   "source": [
    "init = tf.global_variables_initializer()\n",
    "batchsize=100\n",
    "#xbatch=dftrain2.loc[:,cols].head(10).values\n",
    "evalbatch=dfeval[cols]\n",
    "evallabels=dfeval[\"Class\"]\n",
    "numepochs=1\n",
    "\n",
    "treerr=[]\n",
    "everr=[]\n",
    "\n",
    "report_it=50\n",
    "eval_it=report_it*5\n",
    "\n",
    "with tf.Session() as sess:\n",
    "    \n",
    "    sess.run(init)\n",
    "    for epoch in range(numepochs):\n",
    "        for i in range(dftrain2.shape[0]//batchsize):\n",
    "            xbatch=dftrain2.iloc[i*batchsize:(i+1)*batchsize][cols].values\n",
    "            lab=dftrain2.iloc[i*batchsize:(i+1)*batchsize]['Class']\n",
    "            _,ltr=sess.run([trainstep,batchloss],feed_dict={inputs:xbatch,labels:lab})#,learnrate:0.001,droprate:0.2,mode:tf.estimator.ModeKeys.TRAIN})\n",
    "            if i%(eval_it//5)==0:\n",
    "                l=sess.run([batchloss],feed_dict={inputs:evalbatch,labels:evallabels})#,learnrate:0.001,droprate:0.2,mode:tf.estimator.ModeKeys.EVAL})\n",
    "                treerr.append(ltr)\n",
    "                everr.append(l)\n",
    "            \n",
    "            if i%report_it==0 and i>0:\n",
    "                print(\"train: \",epoch,i,ltr)\n",
    "            if i%eval_it==0  and i>0:\n",
    "                print(\"evalu: \",epoch,i,l[0])\n",
    "    print(\"evalu: \",epoch,i,l[0])\n",
    "    \n",
    "    print(\"Running Test data...\")\n",
    "    #out=[]\n",
    "    if 1:\n",
    "    #for i in range(dftest.shape[0]):\n",
    "        testbatch=np.array(dftest.iloc[:][cols].values)\n",
    "        testlabels=np.array(dftest.iloc[:]['Class'].values)\n",
    "        l,yout=sess.run([batchloss,Yout],feed_dict={inputs:testbatch,labels:testlabels})#,learnrate:0.001,droprate:0.2,mode:tf.estimator.ModeKeys.EVAL})\n",
    "        #out.append()\n",
    "        dfout2=pd.DataFrame(data={\"label\":dftest.iloc[:]['Class'].values,\"err\":l,\"pred\":yout})\n",
    "    tf.saved_model.simple_save(sess,\"./m\", inputs=\n",
    "                           {\n",
    "                               \"inputs\":inputs#,'labels':labels,\"learnrate\":learnrate,\"droprate\":droprate,\"mode\":mode\n",
    "                           },\n",
    "                           outputs={\"Yout\":Yout}#,\"batchloss\":batchloss}\n",
    "                          )"
   ]
  },
  {
   "cell_type": "markdown",
   "metadata": {},
   "source": [
    "<p>Plotting training and evaluation error.</p>"
   ]
  },
  {
   "cell_type": "code",
   "execution_count": 10,
   "metadata": {},
   "outputs": [
    {
     "data": {
      "image/png": "[encoded data removed]",
      "text/plain": [
       "<Figure size 432x288 with 1 Axes>"
      ]
     },
     "metadata": {
      "needs_background": "light"
     },
     "output_type": "display_data"
    }
   ],
   "source": [
    "plt.plot(treerr)\n",
    "plt.plot(everr)\n",
    "plt.show()"
   ]
  },
  {
   "cell_type": "markdown",
   "metadata": {},
   "source": [
    "<p>Calculating precision and recal on final test dataset.</p>"
   ]
  },
  {
   "cell_type": "code",
   "execution_count": 11,
   "metadata": {},
   "outputs": [
    {
     "name": "stdout",
     "output_type": "stream",
     "text": [
      "DNNClassifier prec 0.875, recall 0.789, fpr 0.125\n"
     ]
    }
   ],
   "source": [
    "prec2,recall2,fpr2=prec_recall(dfout2)\n",
    "print(\"DNNClassifier prec {:5.3f}, recall {:5.3f}, fpr {:5.3f}\".format(prec2,recall2,fpr2))"
   ]
  },
  {
   "cell_type": "markdown",
   "metadata": {},
   "source": [
    "<p>Printinf string listing columns in the format needed for the flogo.json file</p>"
   ]
  },
  {
   "cell_type": "code",
   "execution_count": 12,
   "metadata": {},
   "outputs": [
    {
     "name": "stdout",
     "output_type": "stream",
     "text": [
      "\"=$.result.V1\"\n",
      ",\"=$.result.V2\"\n",
      ",\"=$.result.V3\"\n",
      ",\"=$.result.V4\"\n",
      ",\"=$.result.V5\"\n",
      ",\"=$.result.V6\"\n",
      ",\"=$.result.V7\"\n",
      ",\"=$.result.V8\"\n",
      ",\"=$.result.V9\"\n",
      ",\"=$.result.V10\"\n",
      ",\"=$.result.V11\"\n",
      ",\"=$.result.V12\"\n",
      ",\"=$.result.V13\"\n",
      ",\"=$.result.V14\"\n",
      ",\"=$.result.V15\"\n",
      ",\"=$.result.V16\"\n",
      ",\"=$.result.V17\"\n",
      ",\"=$.result.V18\"\n",
      ",\"=$.result.V19\"\n",
      ",\"=$.result.V20\"\n",
      ",\"=$.result.V21\"\n",
      ",\"=$.result.V22\"\n",
      ",\"=$.result.V23\"\n",
      ",\"=$.result.V24\"\n",
      ",\"=$.result.V25\"\n",
      ",\"=$.result.V26\"\n",
      ",\"=$.result.V27\"\n",
      ",\"=$.result.V28\"\n",
      ",\"=$.result.TimeSN\"\n",
      ",\"=$.result.AmountSN\"\n",
      "\n"
     ]
    }
   ],
   "source": [
    "l=[]\n",
    "for col in cols:\n",
    "    l.append('\"=$.result.{:s}\"\\n'.format(col))\n",
    "s=','.join(l)\n",
    "print(s)"
   ]
  },
  {
   "cell_type": "code",
   "execution_count": null,
   "metadata": {},
   "outputs": [],
   "source": []
  },
  {
   "cell_type": "code",
   "execution_count": null,
   "metadata": {},
   "outputs": [],
   "source": []
  }
 ],
 "metadata": {
  "kernelspec": {
   "display_name": "Python 3",
   "language": "python",
   "name": "python3"
  },
  "language_info": {
   "codemirror_mode": {
    "name": "ipython",
    "version": 3
   },
   "file_extension": ".py",
   "mimetype": "text/x-python",
   "name": "python",
   "nbconvert_exporter": "python",
   "pygments_lexer": "ipython3",
   "version": "3.6.8"
  }
 },
 "nbformat": 4,
 "nbformat_minor": 2
}
